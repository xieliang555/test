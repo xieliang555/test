{
 "cells": [
  {
   "cell_type": "code",
   "execution_count": 1,
   "metadata": {},
   "outputs": [],
   "source": [
    "import re"
   ]
  },
  {
   "cell_type": "markdown",
   "metadata": {},
   "source": [
    "## pattern"
   ]
  },
  {
   "cell_type": "markdown",
   "metadata": {},
   "source": [
    "https://docs.python.org/3/howto/regex.html\n",
    "\n",
    "+: 匹配连续的\n",
    "\n",
    "\\d: 匹配数字0-9\n",
    "\n",
    "\\D: 匹配非数字的字符\n",
    "\n",
    "\\w: 匹配所有数字字符\n",
    "\n",
    "\\W: 匹配所有非数字字符\n",
    "\n",
    "\\s: 匹配所有空白占位符如: \\n \\t\n",
    "\n",
    "\\S: 匹配所有非空白占位符\n",
    "\n",
    ".: 匹配任意字符\n",
    "\n",
    "*: 连续匹配\n",
    "\n",
    "^: 匹配除了^后接的字符\n",
    "\n",
    "|: 多pattern匹配"
   ]
  },
  {
   "cell_type": "markdown",
   "metadata": {},
   "source": [
    "## re.escape"
   ]
  },
  {
   "cell_type": "code",
   "execution_count": 11,
   "metadata": {},
   "outputs": [
    {
     "name": "stdout",
     "output_type": "stream",
     "text": [
      "\\.\n",
      "['.']\n",
      "['h', 'e', 'l', 'l', 'o', ' ', '.', ' ', 'w', 'o', 'r', 'l', 'd']\n"
     ]
    }
   ],
   "source": [
    "a = \"hello . world\"\n",
    "print(re.escape('.'))\n",
    "print(re.findall(re.escape('.'), a))\n",
    "print(re.findall('.', a))"
   ]
  },
  {
   "cell_type": "markdown",
   "metadata": {},
   "source": [
    "## re.compile"
   ]
  },
  {
   "cell_type": "code",
   "execution_count": 12,
   "metadata": {},
   "outputs": [
    {
     "name": "stdout",
     "output_type": "stream",
     "text": [
      "re.compile('boy|girl')\n"
     ]
    }
   ],
   "source": [
    "p = re.compile('boy|girl')\n",
    "print(p)"
   ]
  },
  {
   "cell_type": "markdown",
   "metadata": {},
   "source": [
    "## re.sub"
   ]
  },
  {
   "cell_type": "code",
   "execution_count": 13,
   "metadata": {},
   "outputs": [
    {
     "data": {
      "text/plain": [
       "'human and human'"
      ]
     },
     "execution_count": 13,
     "metadata": {},
     "output_type": "execute_result"
    }
   ],
   "source": [
    "s = 'boy and girl'\n",
    "re.sub(p, 'human', s)"
   ]
  },
  {
   "cell_type": "markdown",
   "metadata": {},
   "source": [
    "## 同时替换多个pattern.sub"
   ]
  },
  {
   "cell_type": "code",
   "execution_count": 10,
   "metadata": {},
   "outputs": [
    {
     "data": {
      "text/plain": [
       "'HeLLo worLd'"
      ]
     },
     "execution_count": 10,
     "metadata": {},
     "output_type": "execute_result"
    }
   ],
   "source": [
    "s = \"hello world\"\n",
    "adict = {'h':'H', 'l':'L'}\n",
    "\n",
    "# Create a regular expression from all of the dictionary keys\n",
    "regex = re.compile(\"|\".join(map(re.escape, adict.keys())))\n",
    "\n",
    "# For each match, look up the corresponding value in the dictionary\n",
    "regex.sub(lambda match: adict[match.group(0)], s)"
   ]
  },
  {
   "cell_type": "markdown",
   "metadata": {},
   "source": [
    "## 替换连续中中断的数字"
   ]
  },
  {
   "cell_type": "code",
   "execution_count": 1,
   "metadata": {},
   "outputs": [
    {
     "name": "stdout",
     "output_type": "stream",
     "text": [
      "<_sre.SRE_Match object; span=(0, 9), match='1 1235 1 '>\n",
      "1 1235 1 \n",
      "<_sre.SRE_Match object; span=(25, 34), match='2 1235 2 '>\n",
      "2 1235 2 \n",
      "<_sre.SRE_Match object; span=(34, 47), match='100 1235 100 '>\n",
      "100 1235 100 \n"
     ]
    },
    {
     "data": {
      "text/plain": [
       "'1 1 1 1235 1235 2 2 2 2 2 2 100 100 100 '"
      ]
     },
     "execution_count": 1,
     "metadata": {},
     "output_type": "execute_result"
    }
   ],
   "source": [
    "import re\n",
    "\n",
    "string = '1 1235 1 1235 1235 2 2 2 2 1235 2 100 1235 100 '\n",
    "p = re.compile(r'(\\w+\\s)(1235\\s)+\\1')\n",
    "\n",
    "matches = p.finditer(string)\n",
    "for match in matches:\n",
    "    print(match)\n",
    "    print(match.group(0))\n",
    "    \n",
    "p.sub(lambda match:match.group(0).replace(match.group(2),match.group(1)),string)"
   ]
  },
  {
   "cell_type": "code",
   "execution_count": null,
   "metadata": {},
   "outputs": [],
   "source": []
  }
 ],
 "metadata": {
  "kernelspec": {
   "display_name": "sign",
   "language": "python",
   "name": "sign"
  },
  "language_info": {
   "codemirror_mode": {
    "name": "ipython",
    "version": 3
   },
   "file_extension": ".py",
   "mimetype": "text/x-python",
   "name": "python",
   "nbconvert_exporter": "python",
   "pygments_lexer": "ipython3",
   "version": "3.6.10"
  },
  "toc": {
   "base_numbering": 1,
   "nav_menu": {},
   "number_sections": true,
   "sideBar": true,
   "skip_h1_title": false,
   "title_cell": "Table of Contents",
   "title_sidebar": "Contents",
   "toc_cell": false,
   "toc_position": {},
   "toc_section_display": true,
   "toc_window_display": true
  }
 },
 "nbformat": 4,
 "nbformat_minor": 4
}
