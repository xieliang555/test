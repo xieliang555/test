{
 "cells": [
  {
   "cell_type": "code",
   "execution_count": 1,
   "metadata": {},
   "outputs": [],
   "source": [
    "import re"
   ]
  },
  {
   "cell_type": "markdown",
   "metadata": {},
   "source": [
    "## pattern"
   ]
  },
  {
   "cell_type": "markdown",
   "metadata": {},
   "source": [
    "https://docs.python.org/3/howto/regex.html\n",
    "\n",
    "+: 匹配连续的\n",
    "\n",
    "\\d: 匹配数字0-9\n",
    "\n",
    "\\D: 匹配非数字的字符\n",
    "\n",
    "\\w: 匹配所有数字字符\n",
    "\n",
    "\\W: 匹配所有非数字字符\n",
    "\n",
    "\\s: 匹配所有空白占位符如: \\n \\t\n",
    "\n",
    "\\S: 匹配所有非空白占位符\n",
    "\n",
    ".: 匹配任意字符\n",
    "\n",
    "*: 连续匹配\n",
    "\n",
    "^: 匹配除了^后接的字符\n",
    "\n",
    "|: 多pattern匹配"
   ]
  },
  {
   "cell_type": "markdown",
   "metadata": {},
   "source": [
    "## re.escape"
   ]
  },
  {
   "cell_type": "code",
   "execution_count": 11,
   "metadata": {},
   "outputs": [
    {
     "name": "stdout",
     "output_type": "stream",
     "text": [
      "\\.\n",
      "['.']\n",
      "['h', 'e', 'l', 'l', 'o', ' ', '.', ' ', 'w', 'o', 'r', 'l', 'd']\n"
     ]
    }
   ],
   "source": [
    "a = \"hello . world\"\n",
    "print(re.escape('.'))\n",
    "print(re.findall(re.escape('.'), a))\n",
    "print(re.findall('.', a))"
   ]
  },
  {
   "cell_type": "markdown",
   "metadata": {},
   "source": [
    "## re.compile"
   ]
  },
  {
   "cell_type": "code",
   "execution_count": 12,
   "metadata": {},
   "outputs": [
    {
     "name": "stdout",
     "output_type": "stream",
     "text": [
      "re.compile('boy|girl')\n"
     ]
    }
   ],
   "source": [
    "p = re.compile('boy|girl')\n",
    "print(p)"
   ]
  },
  {
   "cell_type": "markdown",
   "metadata": {},
   "source": [
    "## re.sub"
   ]
  },
  {
   "cell_type": "code",
   "execution_count": 13,
   "metadata": {},
   "outputs": [
    {
     "data": {
      "text/plain": [
       "'human and human'"
      ]
     },
     "execution_count": 13,
     "metadata": {},
     "output_type": "execute_result"
    }
   ],
   "source": [
    "s = 'boy and girl'\n",
    "re.sub(p, 'human', s)"
   ]
  },
  {
   "cell_type": "markdown",
   "metadata": {},
   "source": [
    "## 同时替换多个pattern.sub"
   ]
  },
  {
   "cell_type": "code",
   "execution_count": 10,
   "metadata": {},
   "outputs": [
    {
     "data": {
      "text/plain": [
       "'HeLLo worLd'"
      ]
     },
     "execution_count": 10,
     "metadata": {},
     "output_type": "execute_result"
    }
   ],
   "source": [
    "s = \"hello world\"\n",
    "adict = {'h':'H', 'l':'L'}\n",
    "\n",
    "# Create a regular expression from all of the dictionary keys\n",
    "regex = re.compile(\"|\".join(map(re.escape, adict.keys())))\n",
    "\n",
    "# For each match, look up the corresponding value in the dictionary\n",
    "regex.sub(lambda match: adict[match.group(0)], s)"
   ]
  },
  {
   "cell_type": "markdown",
   "metadata": {},
   "source": [
    "## findall"
   ]
  },
  {
   "cell_type": "markdown",
   "metadata": {},
   "source": [
    "## search"
   ]
  },
  {
   "cell_type": "markdown",
   "metadata": {},
   "source": [
    "## match"
   ]
  },
  {
   "cell_type": "code",
   "execution_count": null,
   "metadata": {},
   "outputs": [],
   "source": []
  }
 ],
 "metadata": {
  "kernelspec": {
   "display_name": "Python [conda env:root] *",
   "language": "python",
   "name": "conda-root-py"
  },
  "language_info": {
   "codemirror_mode": {
    "name": "ipython",
    "version": 3
   },
   "file_extension": ".py",
   "mimetype": "text/x-python",
   "name": "python",
   "nbconvert_exporter": "python",
   "pygments_lexer": "ipython3",
   "version": "3.7.6"
  }
 },
 "nbformat": 4,
 "nbformat_minor": 4
}
